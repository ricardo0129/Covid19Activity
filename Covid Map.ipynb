{
 "cells": [
  {
   "cell_type": "code",
   "execution_count": null,
   "id": "b3ea42a7",
   "metadata": {},
   "outputs": [],
   "source": [
    "from draw import *\n",
    "draw_map(\"usa_map.txt\")\n",
    "show_cases(\"03-10-2022\")\n",
    "show_map()"
   ]
  },
  {
   "cell_type": "code",
   "execution_count": null,
   "id": "660df671",
   "metadata": {},
   "outputs": [],
   "source": []
  }
 ],
 "metadata": {
  "kernelspec": {
   "display_name": "Python 3 (ipykernel)",
   "language": "python",
   "name": "python3"
  },
  "language_info": {
   "codemirror_mode": {
    "name": "ipython",
    "version": 3
   },
   "file_extension": ".py",
   "mimetype": "text/x-python",
   "name": "python",
   "nbconvert_exporter": "python",
   "pygments_lexer": "ipython3",
   "version": "3.9.13"
  }
 },
 "nbformat": 4,
 "nbformat_minor": 5
}
